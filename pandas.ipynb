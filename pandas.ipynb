{
 "cells": [
  {
   "cell_type": "code",
   "execution_count": 1,
   "id": "00e728dc",
   "metadata": {
    "pycharm": {
     "name": "#%%\n"
    }
   },
   "outputs": [],
   "source": [
    "import pandas as pd"
   ]
  },
  {
   "cell_type": "code",
   "execution_count": 73,
   "id": "5cc75be7",
   "metadata": {
    "pycharm": {
     "name": "#%%\n"
    }
   },
   "outputs": [],
   "source": [
    "pd.read_csv('assignment/northwind-categories.csv').to_csv('assignment/processed-northwind-categories.csv')"
   ]
  },
  {
   "cell_type": "code",
   "execution_count": 74,
   "id": "002cf0ee",
   "metadata": {
    "pycharm": {
     "name": "#%%\n"
    }
   },
   "outputs": [
    {
     "name": "stderr",
     "output_type": "stream",
     "text": [
      "b'Skipping line 8: expected 11 fields, saw 12\\nSkipping line 9: expected 11 fields, saw 12\\nSkipping line 10: expected 11 fields, saw 12\\nSkipping line 16: expected 11 fields, saw 12\\nSkipping line 19: expected 11 fields, saw 12\\nSkipping line 22: expected 11 fields, saw 12\\nSkipping line 23: expected 11 fields, saw 12\\nSkipping line 24: expected 11 fields, saw 12\\nSkipping line 27: expected 11 fields, saw 12\\nSkipping line 30: expected 11 fields, saw 12\\nSkipping line 31: expected 11 fields, saw 12\\nSkipping line 32: expected 11 fields, saw 12\\nSkipping line 35: expected 11 fields, saw 12\\nSkipping line 41: expected 11 fields, saw 12\\nSkipping line 58: expected 11 fields, saw 12\\nSkipping line 62: expected 11 fields, saw 12\\nSkipping line 63: expected 11 fields, saw 12\\nSkipping line 68: expected 11 fields, saw 12\\nSkipping line 70: expected 11 fields, saw 12\\nSkipping line 75: expected 11 fields, saw 12\\nSkipping line 77: expected 11 fields, saw 12\\nSkipping line 82: expected 11 fields, saw 12\\nSkipping line 85: expected 11 fields, saw 12\\nSkipping line 89: expected 11 fields, saw 12\\n'\n"
     ]
    }
   ],
   "source": [
    "customer_df = pd.read_csv('assignment/northwind-customers.csv', on_bad_lines='warn', header=0)"
   ]
  },
  {
   "cell_type": "code",
   "execution_count": 75,
   "id": "267847cc",
   "metadata": {
    "pycharm": {
     "name": "#%%\n"
    }
   },
   "outputs": [],
   "source": [
    "customer_df.to_csv('assignment/processed-northwind-customers.csv')"
   ]
  },
  {
   "cell_type": "code",
   "execution_count": 76,
   "id": "df1a4ba8",
   "metadata": {
    "pycharm": {
     "name": "#%%\n"
    }
   },
   "outputs": [
    {
     "name": "stderr",
     "output_type": "stream",
     "text": [
      "b'Skipping line 3: expected 18 fields, saw 19\\nSkipping line 6: expected 18 fields, saw 21\\nSkipping line 7: expected 18 fields, saw 22\\nSkipping line 8: expected 18 fields, saw 20\\n'\n"
     ]
    }
   ],
   "source": [
    "employee_df = pd.read_csv('assignment/northwind-employees.csv', on_bad_lines='warn', header=0)"
   ]
  },
  {
   "cell_type": "code",
   "execution_count": 77,
   "id": "e090b076",
   "metadata": {
    "pycharm": {
     "name": "#%%\n"
    }
   },
   "outputs": [],
   "source": [
    "employee_df.to_csv('assignment/processed-northwind-employees.csv')"
   ]
  },
  {
   "cell_type": "code",
   "execution_count": 78,
   "id": "65214ffb",
   "metadata": {
    "pycharm": {
     "name": "#%%\n"
    }
   },
   "outputs": [
    {
     "name": "stderr",
     "output_type": "stream",
     "text": [
      "b'Skipping line 4: expected 14 fields, saw 15\\nSkipping line 5: expected 14 fields, saw 15\\nSkipping line 6: expected 14 fields, saw 15\\nSkipping line 7: expected 14 fields, saw 15\\nSkipping line 10: expected 14 fields, saw 15\\nSkipping line 15: expected 14 fields, saw 15\\nSkipping line 19: expected 14 fields, saw 15\\nSkipping line 35: expected 14 fields, saw 15\\nSkipping line 36: expected 14 fields, saw 15\\nSkipping line 41: expected 14 fields, saw 15\\nSkipping line 44: expected 14 fields, saw 15\\nSkipping line 45: expected 14 fields, saw 15\\nSkipping line 46: expected 14 fields, saw 15\\nSkipping line 51: expected 14 fields, saw 15\\nSkipping line 53: expected 14 fields, saw 15\\nSkipping line 56: expected 14 fields, saw 15\\nSkipping line 57: expected 14 fields, saw 15\\nSkipping line 60: expected 14 fields, saw 15\\nSkipping line 65: expected 14 fields, saw 15\\nSkipping line 80: expected 14 fields, saw 15\\nSkipping line 85: expected 14 fields, saw 15\\nSkipping line 88: expected 14 fields, saw 15\\nSkipping line 94: expected 14 fields, saw 15\\nSkipping line 101: expected 14 fields, saw 15\\nSkipping line 114: expected 14 fields, saw 15\\nSkipping line 116: expected 14 fields, saw 15\\nSkipping line 120: expected 14 fields, saw 15\\nSkipping line 126: expected 14 fields, saw 15\\nSkipping line 133: expected 14 fields, saw 15\\nSkipping line 140: expected 14 fields, saw 15\\nSkipping line 160: expected 14 fields, saw 15\\nSkipping line 162: expected 14 fields, saw 15\\nSkipping line 168: expected 14 fields, saw 15\\nSkipping line 174: expected 14 fields, saw 15\\nSkipping line 175: expected 14 fields, saw 15\\nSkipping line 177: expected 14 fields, saw 15\\nSkipping line 180: expected 14 fields, saw 15\\nSkipping line 190: expected 14 fields, saw 15\\nSkipping line 201: expected 14 fields, saw 15\\nSkipping line 203: expected 14 fields, saw 15\\nSkipping line 204: expected 14 fields, saw 15\\nSkipping line 212: expected 14 fields, saw 15\\nSkipping line 213: expected 14 fields, saw 15\\nSkipping line 217: expected 14 fields, saw 15\\nSkipping line 220: expected 14 fields, saw 15\\nSkipping line 224: expected 14 fields, saw 15\\nSkipping line 229: expected 14 fields, saw 15\\nSkipping line 232: expected 14 fields, saw 15\\nSkipping line 234: expected 14 fields, saw 15\\nSkipping line 235: expected 14 fields, saw 15\\nSkipping line 241: expected 14 fields, saw 15\\nSkipping line 248: expected 14 fields, saw 15\\nSkipping line 250: expected 14 fields, saw 15\\nSkipping line 265: expected 14 fields, saw 15\\nSkipping line 266: expected 14 fields, saw 15\\nSkipping line 279: expected 14 fields, saw 15\\nSkipping line 295: expected 14 fields, saw 15\\nSkipping line 300: expected 14 fields, saw 15\\nSkipping line 304: expected 14 fields, saw 15\\nSkipping line 313: expected 14 fields, saw 15\\nSkipping line 317: expected 14 fields, saw 15\\nSkipping line 320: expected 14 fields, saw 15\\nSkipping line 322: expected 14 fields, saw 15\\nSkipping line 335: expected 14 fields, saw 15\\nSkipping line 338: expected 14 fields, saw 15\\nSkipping line 339: expected 14 fields, saw 15\\nSkipping line 341: expected 14 fields, saw 15\\nSkipping line 360: expected 14 fields, saw 15\\nSkipping line 363: expected 14 fields, saw 15\\nSkipping line 376: expected 14 fields, saw 15\\nSkipping line 382: expected 14 fields, saw 15\\nSkipping line 383: expected 14 fields, saw 15\\nSkipping line 388: expected 14 fields, saw 15\\nSkipping line 391: expected 14 fields, saw 15\\nSkipping line 398: expected 14 fields, saw 15\\nSkipping line 399: expected 14 fields, saw 15\\nSkipping line 401: expected 14 fields, saw 15\\nSkipping line 402: expected 14 fields, saw 15\\nSkipping line 404: expected 14 fields, saw 15\\nSkipping line 406: expected 14 fields, saw 15\\nSkipping line 413: expected 14 fields, saw 15\\nSkipping line 417: expected 14 fields, saw 15\\nSkipping line 425: expected 14 fields, saw 15\\nSkipping line 433: expected 14 fields, saw 15\\nSkipping line 437: expected 14 fields, saw 15\\nSkipping line 439: expected 14 fields, saw 15\\nSkipping line 444: expected 14 fields, saw 15\\nSkipping line 458: expected 14 fields, saw 15\\nSkipping line 463: expected 14 fields, saw 15\\nSkipping line 469: expected 14 fields, saw 15\\nSkipping line 474: expected 14 fields, saw 15\\nSkipping line 479: expected 14 fields, saw 15\\nSkipping line 482: expected 14 fields, saw 15\\nSkipping line 484: expected 14 fields, saw 15\\nSkipping line 486: expected 14 fields, saw 15\\nSkipping line 488: expected 14 fields, saw 15\\nSkipping line 492: expected 14 fields, saw 15\\nSkipping line 509: expected 14 fields, saw 15\\nSkipping line 517: expected 14 fields, saw 15\\nSkipping line 521: expected 14 fields, saw 15\\nSkipping line 524: expected 14 fields, saw 15\\nSkipping line 531: expected 14 fields, saw 15\\nSkipping line 537: expected 14 fields, saw 15\\nSkipping line 540: expected 14 fields, saw 15\\nSkipping line 543: expected 14 fields, saw 15\\nSkipping line 544: expected 14 fields, saw 15\\nSkipping line 548: expected 14 fields, saw 15\\nSkipping line 555: expected 14 fields, saw 15\\nSkipping line 557: expected 14 fields, saw 15\\nSkipping line 560: expected 14 fields, saw 15\\nSkipping line 563: expected 14 fields, saw 15\\nSkipping line 567: expected 14 fields, saw 15\\nSkipping line 568: expected 14 fields, saw 15\\nSkipping line 580: expected 14 fields, saw 15\\nSkipping line 581: expected 14 fields, saw 15\\nSkipping line 584: expected 14 fields, saw 15\\nSkipping line 588: expected 14 fields, saw 15\\nSkipping line 593: expected 14 fields, saw 15\\nSkipping line 595: expected 14 fields, saw 15\\nSkipping line 597: expected 14 fields, saw 15\\nSkipping line 600: expected 14 fields, saw 15\\nSkipping line 604: expected 14 fields, saw 15\\nSkipping line 605: expected 14 fields, saw 15\\nSkipping line 612: expected 14 fields, saw 15\\nSkipping line 614: expected 14 fields, saw 15\\nSkipping line 622: expected 14 fields, saw 15\\nSkipping line 625: expected 14 fields, saw 15\\nSkipping line 626: expected 14 fields, saw 15\\nSkipping line 628: expected 14 fields, saw 15\\nSkipping line 630: expected 14 fields, saw 15\\nSkipping line 631: expected 14 fields, saw 15\\nSkipping line 639: expected 14 fields, saw 15\\nSkipping line 640: expected 14 fields, saw 15\\nSkipping line 641: expected 14 fields, saw 15\\nSkipping line 642: expected 14 fields, saw 15\\nSkipping line 644: expected 14 fields, saw 15\\nSkipping line 654: expected 14 fields, saw 15\\nSkipping line 657: expected 14 fields, saw 15\\nSkipping line 659: expected 14 fields, saw 15\\nSkipping line 661: expected 14 fields, saw 15\\nSkipping line 665: expected 14 fields, saw 15\\nSkipping line 667: expected 14 fields, saw 15\\nSkipping line 668: expected 14 fields, saw 15\\nSkipping line 671: expected 14 fields, saw 15\\nSkipping line 676: expected 14 fields, saw 15\\nSkipping line 679: expected 14 fields, saw 15\\nSkipping line 681: expected 14 fields, saw 15\\nSkipping line 682: expected 14 fields, saw 15\\nSkipping line 684: expected 14 fields, saw 15\\nSkipping line 686: expected 14 fields, saw 15\\nSkipping line 689: expected 14 fields, saw 15\\nSkipping line 694: expected 14 fields, saw 15\\nSkipping line 702: expected 14 fields, saw 15\\nSkipping line 713: expected 14 fields, saw 15\\nSkipping line 715: expected 14 fields, saw 15\\nSkipping line 718: expected 14 fields, saw 15\\nSkipping line 723: expected 14 fields, saw 15\\nSkipping line 724: expected 14 fields, saw 15\\nSkipping line 725: expected 14 fields, saw 15\\nSkipping line 726: expected 14 fields, saw 15\\nSkipping line 727: expected 14 fields, saw 15\\nSkipping line 735: expected 14 fields, saw 15\\nSkipping line 743: expected 14 fields, saw 15\\nSkipping line 763: expected 14 fields, saw 15\\nSkipping line 767: expected 14 fields, saw 15\\nSkipping line 776: expected 14 fields, saw 15\\nSkipping line 789: expected 14 fields, saw 15\\nSkipping line 791: expected 14 fields, saw 15\\nSkipping line 792: expected 14 fields, saw 15\\nSkipping line 796: expected 14 fields, saw 15\\nSkipping line 797: expected 14 fields, saw 15\\nSkipping line 803: expected 14 fields, saw 15\\nSkipping line 806: expected 14 fields, saw 15\\nSkipping line 813: expected 14 fields, saw 15\\nSkipping line 822: expected 14 fields, saw 15\\nSkipping line 830: expected 14 fields, saw 15\\n'\n"
     ]
    }
   ],
   "source": [
    "orders_df = pd.read_csv('assignment/northwind-orders.csv',on_bad_lines='warn', header=0)"
   ]
  },
  {
   "cell_type": "code",
   "execution_count": 79,
   "id": "270165bf",
   "metadata": {
    "pycharm": {
     "name": "#%%\n"
    }
   },
   "outputs": [],
   "source": [
    "orders_df.to_csv('assignment/processed-northwind-orders.csv')"
   ]
  },
  {
   "cell_type": "code",
   "execution_count": 80,
   "id": "31b305a6",
   "metadata": {
    "pycharm": {
     "name": "#%%\n"
    }
   },
   "outputs": [],
   "source": [
    "pd.read_csv('assignment/northwind-products.csv').to_csv('assignment/processed-northwind-products.csv')"
   ]
  },
  {
   "cell_type": "code",
   "execution_count": 81,
   "id": "f2186315",
   "metadata": {
    "pycharm": {
     "name": "#%%\n"
    }
   },
   "outputs": [
    {
     "name": "stderr",
     "output_type": "stream",
     "text": [
      "b'Skipping line 8: expected 12 fields, saw 13\\nSkipping line 9: expected 12 fields, saw 13\\nSkipping line 15: expected 12 fields, saw 13\\nSkipping line 19: expected 12 fields, saw 13\\nSkipping line 21: expected 12 fields, saw 13\\nSkipping line 25: expected 12 fields, saw 13\\nSkipping line 27: expected 12 fields, saw 13\\nSkipping line 28: expected 12 fields, saw 13\\nSkipping line 29: expected 12 fields, saw 13\\n'\n"
     ]
    }
   ],
   "source": [
    "pd.read_csv('assignment/northwind-suppliers.csv',on_bad_lines='warn').to_csv('assignment/processed-northwind-suppliers.csv')"
   ]
  },
  {
   "cell_type": "code",
   "execution_count": 82,
   "id": "0a6e8325",
   "metadata": {
    "pycharm": {
     "name": "#%%\n"
    }
   },
   "outputs": [],
   "source": [
    "pd.read_csv('assignment/northwond-order-details.csv').to_csv('assignment/processed-northwond-order-details.csv')"
   ]
  },
  {
   "cell_type": "code",
   "execution_count": 85,
   "id": "730d6d64",
   "metadata": {
    "pycharm": {
     "name": "#%%\n"
    }
   },
   "outputs": [
    {
     "data": {
      "text/html": [
       "<div>\n",
       "<style scoped>\n",
       "    .dataframe tbody tr th:only-of-type {\n",
       "        vertical-align: middle;\n",
       "    }\n",
       "\n",
       "    .dataframe tbody tr th {\n",
       "        vertical-align: top;\n",
       "    }\n",
       "\n",
       "    .dataframe thead th {\n",
       "        text-align: right;\n",
       "    }\n",
       "</style>\n",
       "<table border=\"1\" class=\"dataframe\">\n",
       "  <thead>\n",
       "    <tr style=\"text-align: right;\">\n",
       "      <th></th>\n",
       "      <th>Unnamed: 0</th>\n",
       "      <th>customerID</th>\n",
       "      <th>companyName</th>\n",
       "      <th>contactName</th>\n",
       "      <th>contactTitle</th>\n",
       "      <th>address</th>\n",
       "      <th>city</th>\n",
       "      <th>region</th>\n",
       "      <th>postalCode</th>\n",
       "      <th>country</th>\n",
       "      <th>phone</th>\n",
       "      <th>fax</th>\n",
       "    </tr>\n",
       "  </thead>\n",
       "  <tbody>\n",
       "    <tr>\n",
       "      <th>0</th>\n",
       "      <td>0</td>\n",
       "      <td>ALFKI</td>\n",
       "      <td>Alfreds Futterkiste</td>\n",
       "      <td>Maria Anders</td>\n",
       "      <td>Sales Representative</td>\n",
       "      <td>Obere Str. 57</td>\n",
       "      <td>Berlin</td>\n",
       "      <td>NaN</td>\n",
       "      <td>12209</td>\n",
       "      <td>Germany</td>\n",
       "      <td>030-0074321</td>\n",
       "      <td>030-0076545</td>\n",
       "    </tr>\n",
       "    <tr>\n",
       "      <th>1</th>\n",
       "      <td>1</td>\n",
       "      <td>ANATR</td>\n",
       "      <td>Ana Trujillo Emparedados y helados</td>\n",
       "      <td>Ana Trujillo</td>\n",
       "      <td>Owner</td>\n",
       "      <td>Avda. de la Constitución 2222</td>\n",
       "      <td>México D.F.</td>\n",
       "      <td>NaN</td>\n",
       "      <td>05021</td>\n",
       "      <td>Mexico</td>\n",
       "      <td>(5) 555-4729</td>\n",
       "      <td>(5) 555-3745</td>\n",
       "    </tr>\n",
       "    <tr>\n",
       "      <th>2</th>\n",
       "      <td>2</td>\n",
       "      <td>ANTON</td>\n",
       "      <td>Antonio Moreno Taquería</td>\n",
       "      <td>Antonio Moreno</td>\n",
       "      <td>Owner</td>\n",
       "      <td>Mataderos  2312</td>\n",
       "      <td>México D.F.</td>\n",
       "      <td>NaN</td>\n",
       "      <td>05023</td>\n",
       "      <td>Mexico</td>\n",
       "      <td>(5) 555-3932</td>\n",
       "      <td>NaN</td>\n",
       "    </tr>\n",
       "    <tr>\n",
       "      <th>3</th>\n",
       "      <td>3</td>\n",
       "      <td>AROUT</td>\n",
       "      <td>Around the Horn</td>\n",
       "      <td>Thomas Hardy</td>\n",
       "      <td>Sales Representative</td>\n",
       "      <td>120 Hanover Sq.</td>\n",
       "      <td>London</td>\n",
       "      <td>NaN</td>\n",
       "      <td>WA1 1DP</td>\n",
       "      <td>UK</td>\n",
       "      <td>(171) 555-7788</td>\n",
       "      <td>(171) 555-6750</td>\n",
       "    </tr>\n",
       "    <tr>\n",
       "      <th>4</th>\n",
       "      <td>4</td>\n",
       "      <td>BERGS</td>\n",
       "      <td>Berglunds snabbköp</td>\n",
       "      <td>Christina Berglund</td>\n",
       "      <td>Order Administrator</td>\n",
       "      <td>Berguvsvägen  8</td>\n",
       "      <td>Luleå</td>\n",
       "      <td>NaN</td>\n",
       "      <td>S-958 22</td>\n",
       "      <td>Sweden</td>\n",
       "      <td>0921-12 34 65</td>\n",
       "      <td>0921-12 34 67</td>\n",
       "    </tr>\n",
       "    <tr>\n",
       "      <th>...</th>\n",
       "      <td>...</td>\n",
       "      <td>...</td>\n",
       "      <td>...</td>\n",
       "      <td>...</td>\n",
       "      <td>...</td>\n",
       "      <td>...</td>\n",
       "      <td>...</td>\n",
       "      <td>...</td>\n",
       "      <td>...</td>\n",
       "      <td>...</td>\n",
       "      <td>...</td>\n",
       "      <td>...</td>\n",
       "    </tr>\n",
       "    <tr>\n",
       "      <th>62</th>\n",
       "      <td>62</td>\n",
       "      <td>WANDK</td>\n",
       "      <td>Die Wandernde Kuh</td>\n",
       "      <td>Rita Müller</td>\n",
       "      <td>Sales Representative</td>\n",
       "      <td>Adenauerallee 900</td>\n",
       "      <td>Stuttgart</td>\n",
       "      <td>NaN</td>\n",
       "      <td>70563</td>\n",
       "      <td>Germany</td>\n",
       "      <td>0711-020361</td>\n",
       "      <td>0711-035428</td>\n",
       "    </tr>\n",
       "    <tr>\n",
       "      <th>63</th>\n",
       "      <td>63</td>\n",
       "      <td>WARTH</td>\n",
       "      <td>Wartian Herkku</td>\n",
       "      <td>Pirkko Koskitalo</td>\n",
       "      <td>Accounting Manager</td>\n",
       "      <td>Torikatu 38</td>\n",
       "      <td>Oulu</td>\n",
       "      <td>NaN</td>\n",
       "      <td>90110</td>\n",
       "      <td>Finland</td>\n",
       "      <td>981-443655</td>\n",
       "      <td>981-443655</td>\n",
       "    </tr>\n",
       "    <tr>\n",
       "      <th>64</th>\n",
       "      <td>64</td>\n",
       "      <td>WHITC</td>\n",
       "      <td>White Clover Markets</td>\n",
       "      <td>Karl Jablonski</td>\n",
       "      <td>Owner</td>\n",
       "      <td>305 - 14th Ave. S. Suite 3B</td>\n",
       "      <td>Seattle</td>\n",
       "      <td>WA</td>\n",
       "      <td>98128</td>\n",
       "      <td>USA</td>\n",
       "      <td>(206) 555-4112</td>\n",
       "      <td>(206) 555-4115</td>\n",
       "    </tr>\n",
       "    <tr>\n",
       "      <th>65</th>\n",
       "      <td>65</td>\n",
       "      <td>WILMK</td>\n",
       "      <td>Wilman Kala</td>\n",
       "      <td>Matti Karttunen</td>\n",
       "      <td>Owner/Marketing Assistant</td>\n",
       "      <td>Keskuskatu 45</td>\n",
       "      <td>Helsinki</td>\n",
       "      <td>NaN</td>\n",
       "      <td>21240</td>\n",
       "      <td>Finland</td>\n",
       "      <td>90-224 8858</td>\n",
       "      <td>90-224 8858</td>\n",
       "    </tr>\n",
       "    <tr>\n",
       "      <th>66</th>\n",
       "      <td>66</td>\n",
       "      <td>WOLZA</td>\n",
       "      <td>Wolski  Zajazd</td>\n",
       "      <td>Zbyszek Piestrzeniewicz</td>\n",
       "      <td>Owner</td>\n",
       "      <td>ul. Filtrowa 68</td>\n",
       "      <td>Warszawa</td>\n",
       "      <td>NaN</td>\n",
       "      <td>01-012</td>\n",
       "      <td>Poland</td>\n",
       "      <td>(26) 642-7012</td>\n",
       "      <td>(26) 642-7012</td>\n",
       "    </tr>\n",
       "  </tbody>\n",
       "</table>\n",
       "<p>67 rows × 12 columns</p>\n",
       "</div>"
      ],
      "text/plain": [
       "    Unnamed: 0 customerID                         companyName  \\\n",
       "0            0      ALFKI                 Alfreds Futterkiste   \n",
       "1            1      ANATR  Ana Trujillo Emparedados y helados   \n",
       "2            2      ANTON             Antonio Moreno Taquería   \n",
       "3            3      AROUT                     Around the Horn   \n",
       "4            4      BERGS                  Berglunds snabbköp   \n",
       "..         ...        ...                                 ...   \n",
       "62          62      WANDK                   Die Wandernde Kuh   \n",
       "63          63      WARTH                      Wartian Herkku   \n",
       "64          64      WHITC                White Clover Markets   \n",
       "65          65      WILMK                         Wilman Kala   \n",
       "66          66      WOLZA                      Wolski  Zajazd   \n",
       "\n",
       "                contactName               contactTitle  \\\n",
       "0              Maria Anders       Sales Representative   \n",
       "1              Ana Trujillo                      Owner   \n",
       "2            Antonio Moreno                      Owner   \n",
       "3              Thomas Hardy       Sales Representative   \n",
       "4        Christina Berglund        Order Administrator   \n",
       "..                      ...                        ...   \n",
       "62              Rita Müller       Sales Representative   \n",
       "63         Pirkko Koskitalo         Accounting Manager   \n",
       "64           Karl Jablonski                      Owner   \n",
       "65          Matti Karttunen  Owner/Marketing Assistant   \n",
       "66  Zbyszek Piestrzeniewicz                      Owner   \n",
       "\n",
       "                          address         city region postalCode  country  \\\n",
       "0                   Obere Str. 57       Berlin    NaN      12209  Germany   \n",
       "1   Avda. de la Constitución 2222  México D.F.    NaN      05021   Mexico   \n",
       "2                 Mataderos  2312  México D.F.    NaN      05023   Mexico   \n",
       "3                 120 Hanover Sq.       London    NaN    WA1 1DP       UK   \n",
       "4                 Berguvsvägen  8        Luleå    NaN   S-958 22   Sweden   \n",
       "..                            ...          ...    ...        ...      ...   \n",
       "62              Adenauerallee 900    Stuttgart    NaN      70563  Germany   \n",
       "63                    Torikatu 38         Oulu    NaN      90110  Finland   \n",
       "64    305 - 14th Ave. S. Suite 3B      Seattle     WA      98128      USA   \n",
       "65                  Keskuskatu 45     Helsinki    NaN      21240  Finland   \n",
       "66                ul. Filtrowa 68     Warszawa    NaN     01-012   Poland   \n",
       "\n",
       "             phone             fax  \n",
       "0      030-0074321     030-0076545  \n",
       "1     (5) 555-4729    (5) 555-3745  \n",
       "2     (5) 555-3932             NaN  \n",
       "3   (171) 555-7788  (171) 555-6750  \n",
       "4    0921-12 34 65   0921-12 34 67  \n",
       "..             ...             ...  \n",
       "62     0711-020361     0711-035428  \n",
       "63      981-443655      981-443655  \n",
       "64  (206) 555-4112  (206) 555-4115  \n",
       "65     90-224 8858     90-224 8858  \n",
       "66   (26) 642-7012   (26) 642-7012  \n",
       "\n",
       "[67 rows x 12 columns]"
      ]
     },
     "execution_count": 85,
     "metadata": {},
     "output_type": "execute_result"
    }
   ],
   "source": [
    "pd.read_csv('assignment/processed-northwind-customers.csv')"
   ]
  },
  {
   "cell_type": "code",
   "execution_count": 86,
   "id": "5ecd7583",
   "metadata": {
    "pycharm": {
     "name": "#%%\n"
    }
   },
   "outputs": [
    {
     "data": {
      "text/html": [
       "<div>\n",
       "<style scoped>\n",
       "    .dataframe tbody tr th:only-of-type {\n",
       "        vertical-align: middle;\n",
       "    }\n",
       "\n",
       "    .dataframe tbody tr th {\n",
       "        vertical-align: top;\n",
       "    }\n",
       "\n",
       "    .dataframe thead th {\n",
       "        text-align: right;\n",
       "    }\n",
       "</style>\n",
       "<table border=\"1\" class=\"dataframe\">\n",
       "  <thead>\n",
       "    <tr style=\"text-align: right;\">\n",
       "      <th></th>\n",
       "      <th>Unnamed: 0</th>\n",
       "      <th>orderID</th>\n",
       "      <th>customerID</th>\n",
       "      <th>employeeID</th>\n",
       "      <th>orderDate</th>\n",
       "      <th>requiredDate</th>\n",
       "      <th>shippedDate</th>\n",
       "      <th>shipVia</th>\n",
       "      <th>freight</th>\n",
       "      <th>shipName</th>\n",
       "      <th>shipAddress</th>\n",
       "      <th>shipCity</th>\n",
       "      <th>shipRegion</th>\n",
       "      <th>shipPostalCode</th>\n",
       "      <th>shipCountry</th>\n",
       "    </tr>\n",
       "  </thead>\n",
       "  <tbody>\n",
       "    <tr>\n",
       "      <th>0</th>\n",
       "      <td>0</td>\n",
       "      <td>10248</td>\n",
       "      <td>VINET</td>\n",
       "      <td>5</td>\n",
       "      <td>1996-07-04 00:00:00.000</td>\n",
       "      <td>1996-08-01 00:00:00.000</td>\n",
       "      <td>1996-07-16 00:00:00.000</td>\n",
       "      <td>3</td>\n",
       "      <td>32.38</td>\n",
       "      <td>Vins et alcools Chevalier</td>\n",
       "      <td>59 rue de l'Abbaye</td>\n",
       "      <td>Reims</td>\n",
       "      <td>NaN</td>\n",
       "      <td>51100</td>\n",
       "      <td>France</td>\n",
       "    </tr>\n",
       "    <tr>\n",
       "      <th>1</th>\n",
       "      <td>1</td>\n",
       "      <td>10249</td>\n",
       "      <td>TOMSP</td>\n",
       "      <td>6</td>\n",
       "      <td>1996-07-05 00:00:00.000</td>\n",
       "      <td>1996-08-16 00:00:00.000</td>\n",
       "      <td>1996-07-10 00:00:00.000</td>\n",
       "      <td>1</td>\n",
       "      <td>11.61</td>\n",
       "      <td>Toms Spezialitäten</td>\n",
       "      <td>Luisenstr. 48</td>\n",
       "      <td>Münster</td>\n",
       "      <td>NaN</td>\n",
       "      <td>44087</td>\n",
       "      <td>Germany</td>\n",
       "    </tr>\n",
       "    <tr>\n",
       "      <th>2</th>\n",
       "      <td>2</td>\n",
       "      <td>10254</td>\n",
       "      <td>CHOPS</td>\n",
       "      <td>5</td>\n",
       "      <td>1996-07-11 00:00:00.000</td>\n",
       "      <td>1996-08-08 00:00:00.000</td>\n",
       "      <td>1996-07-23 00:00:00.000</td>\n",
       "      <td>2</td>\n",
       "      <td>22.98</td>\n",
       "      <td>Chop-suey Chinese</td>\n",
       "      <td>Hauptstr. 31</td>\n",
       "      <td>Bern</td>\n",
       "      <td>NaN</td>\n",
       "      <td>3012</td>\n",
       "      <td>Switzerland</td>\n",
       "    </tr>\n",
       "    <tr>\n",
       "      <th>3</th>\n",
       "      <td>3</td>\n",
       "      <td>10255</td>\n",
       "      <td>RICSU</td>\n",
       "      <td>9</td>\n",
       "      <td>1996-07-12 00:00:00.000</td>\n",
       "      <td>1996-08-09 00:00:00.000</td>\n",
       "      <td>1996-07-15 00:00:00.000</td>\n",
       "      <td>3</td>\n",
       "      <td>148.33</td>\n",
       "      <td>Richter Supermarkt</td>\n",
       "      <td>Starenweg 5</td>\n",
       "      <td>Genève</td>\n",
       "      <td>NaN</td>\n",
       "      <td>1204</td>\n",
       "      <td>Switzerland</td>\n",
       "    </tr>\n",
       "    <tr>\n",
       "      <th>4</th>\n",
       "      <td>4</td>\n",
       "      <td>10257</td>\n",
       "      <td>HILAA</td>\n",
       "      <td>4</td>\n",
       "      <td>1996-07-16 00:00:00.000</td>\n",
       "      <td>1996-08-13 00:00:00.000</td>\n",
       "      <td>1996-07-22 00:00:00.000</td>\n",
       "      <td>3</td>\n",
       "      <td>81.91</td>\n",
       "      <td>HILARION-Abastos</td>\n",
       "      <td>Carrera 22 con Ave. Carlos Soublette #8-35</td>\n",
       "      <td>San Cristóbal</td>\n",
       "      <td>Táchira</td>\n",
       "      <td>5022</td>\n",
       "      <td>Venezuela</td>\n",
       "    </tr>\n",
       "    <tr>\n",
       "      <th>...</th>\n",
       "      <td>...</td>\n",
       "      <td>...</td>\n",
       "      <td>...</td>\n",
       "      <td>...</td>\n",
       "      <td>...</td>\n",
       "      <td>...</td>\n",
       "      <td>...</td>\n",
       "      <td>...</td>\n",
       "      <td>...</td>\n",
       "      <td>...</td>\n",
       "      <td>...</td>\n",
       "      <td>...</td>\n",
       "      <td>...</td>\n",
       "      <td>...</td>\n",
       "      <td>...</td>\n",
       "    </tr>\n",
       "    <tr>\n",
       "      <th>649</th>\n",
       "      <td>649</td>\n",
       "      <td>11072</td>\n",
       "      <td>ERNSH</td>\n",
       "      <td>4</td>\n",
       "      <td>1998-05-05 00:00:00.000</td>\n",
       "      <td>1998-06-02 00:00:00.000</td>\n",
       "      <td>NaN</td>\n",
       "      <td>2</td>\n",
       "      <td>258.64</td>\n",
       "      <td>Ernst Handel</td>\n",
       "      <td>Kirchgasse 6</td>\n",
       "      <td>Graz</td>\n",
       "      <td>NaN</td>\n",
       "      <td>8010</td>\n",
       "      <td>Austria</td>\n",
       "    </tr>\n",
       "    <tr>\n",
       "      <th>650</th>\n",
       "      <td>650</td>\n",
       "      <td>11073</td>\n",
       "      <td>PERIC</td>\n",
       "      <td>2</td>\n",
       "      <td>1998-05-05 00:00:00.000</td>\n",
       "      <td>1998-06-02 00:00:00.000</td>\n",
       "      <td>NaN</td>\n",
       "      <td>2</td>\n",
       "      <td>24.95</td>\n",
       "      <td>Pericles Comidas clásicas</td>\n",
       "      <td>Calle Dr. Jorge Cash 321</td>\n",
       "      <td>México D.F.</td>\n",
       "      <td>NaN</td>\n",
       "      <td>05033</td>\n",
       "      <td>Mexico</td>\n",
       "    </tr>\n",
       "    <tr>\n",
       "      <th>651</th>\n",
       "      <td>651</td>\n",
       "      <td>11074</td>\n",
       "      <td>SIMOB</td>\n",
       "      <td>7</td>\n",
       "      <td>1998-05-06 00:00:00.000</td>\n",
       "      <td>1998-06-03 00:00:00.000</td>\n",
       "      <td>NaN</td>\n",
       "      <td>2</td>\n",
       "      <td>18.44</td>\n",
       "      <td>Simons bistro</td>\n",
       "      <td>Vinbæltet 34</td>\n",
       "      <td>Kobenhavn</td>\n",
       "      <td>NaN</td>\n",
       "      <td>1734</td>\n",
       "      <td>Denmark</td>\n",
       "    </tr>\n",
       "    <tr>\n",
       "      <th>652</th>\n",
       "      <td>652</td>\n",
       "      <td>11075</td>\n",
       "      <td>RICSU</td>\n",
       "      <td>8</td>\n",
       "      <td>1998-05-06 00:00:00.000</td>\n",
       "      <td>1998-06-03 00:00:00.000</td>\n",
       "      <td>NaN</td>\n",
       "      <td>2</td>\n",
       "      <td>6.19</td>\n",
       "      <td>Richter Supermarkt</td>\n",
       "      <td>Starenweg 5</td>\n",
       "      <td>Genève</td>\n",
       "      <td>NaN</td>\n",
       "      <td>1204</td>\n",
       "      <td>Switzerland</td>\n",
       "    </tr>\n",
       "    <tr>\n",
       "      <th>653</th>\n",
       "      <td>653</td>\n",
       "      <td>11077</td>\n",
       "      <td>RATTC</td>\n",
       "      <td>1</td>\n",
       "      <td>1998-05-06 00:00:00.000</td>\n",
       "      <td>1998-06-03 00:00:00.000</td>\n",
       "      <td>NaN</td>\n",
       "      <td>2</td>\n",
       "      <td>8.53</td>\n",
       "      <td>Rattlesnake Canyon Grocery</td>\n",
       "      <td>2817 Milton Dr.</td>\n",
       "      <td>Albuquerque</td>\n",
       "      <td>NM</td>\n",
       "      <td>87110</td>\n",
       "      <td>USA</td>\n",
       "    </tr>\n",
       "  </tbody>\n",
       "</table>\n",
       "<p>654 rows × 15 columns</p>\n",
       "</div>"
      ],
      "text/plain": [
       "     Unnamed: 0  orderID customerID  employeeID                orderDate  \\\n",
       "0             0    10248      VINET           5  1996-07-04 00:00:00.000   \n",
       "1             1    10249      TOMSP           6  1996-07-05 00:00:00.000   \n",
       "2             2    10254      CHOPS           5  1996-07-11 00:00:00.000   \n",
       "3             3    10255      RICSU           9  1996-07-12 00:00:00.000   \n",
       "4             4    10257      HILAA           4  1996-07-16 00:00:00.000   \n",
       "..          ...      ...        ...         ...                      ...   \n",
       "649         649    11072      ERNSH           4  1998-05-05 00:00:00.000   \n",
       "650         650    11073      PERIC           2  1998-05-05 00:00:00.000   \n",
       "651         651    11074      SIMOB           7  1998-05-06 00:00:00.000   \n",
       "652         652    11075      RICSU           8  1998-05-06 00:00:00.000   \n",
       "653         653    11077      RATTC           1  1998-05-06 00:00:00.000   \n",
       "\n",
       "                requiredDate              shippedDate  shipVia  freight  \\\n",
       "0    1996-08-01 00:00:00.000  1996-07-16 00:00:00.000        3    32.38   \n",
       "1    1996-08-16 00:00:00.000  1996-07-10 00:00:00.000        1    11.61   \n",
       "2    1996-08-08 00:00:00.000  1996-07-23 00:00:00.000        2    22.98   \n",
       "3    1996-08-09 00:00:00.000  1996-07-15 00:00:00.000        3   148.33   \n",
       "4    1996-08-13 00:00:00.000  1996-07-22 00:00:00.000        3    81.91   \n",
       "..                       ...                      ...      ...      ...   \n",
       "649  1998-06-02 00:00:00.000                      NaN        2   258.64   \n",
       "650  1998-06-02 00:00:00.000                      NaN        2    24.95   \n",
       "651  1998-06-03 00:00:00.000                      NaN        2    18.44   \n",
       "652  1998-06-03 00:00:00.000                      NaN        2     6.19   \n",
       "653  1998-06-03 00:00:00.000                      NaN        2     8.53   \n",
       "\n",
       "                       shipName                                 shipAddress  \\\n",
       "0     Vins et alcools Chevalier                          59 rue de l'Abbaye   \n",
       "1            Toms Spezialitäten                               Luisenstr. 48   \n",
       "2             Chop-suey Chinese                                Hauptstr. 31   \n",
       "3            Richter Supermarkt                                 Starenweg 5   \n",
       "4              HILARION-Abastos  Carrera 22 con Ave. Carlos Soublette #8-35   \n",
       "..                          ...                                         ...   \n",
       "649                Ernst Handel                                Kirchgasse 6   \n",
       "650   Pericles Comidas clásicas                    Calle Dr. Jorge Cash 321   \n",
       "651               Simons bistro                                Vinbæltet 34   \n",
       "652          Richter Supermarkt                                 Starenweg 5   \n",
       "653  Rattlesnake Canyon Grocery                             2817 Milton Dr.   \n",
       "\n",
       "          shipCity shipRegion shipPostalCode  shipCountry  \n",
       "0            Reims        NaN          51100       France  \n",
       "1          Münster        NaN          44087      Germany  \n",
       "2             Bern        NaN           3012  Switzerland  \n",
       "3           Genève        NaN           1204  Switzerland  \n",
       "4    San Cristóbal    Táchira           5022    Venezuela  \n",
       "..             ...        ...            ...          ...  \n",
       "649           Graz        NaN           8010      Austria  \n",
       "650    México D.F.        NaN          05033       Mexico  \n",
       "651      Kobenhavn        NaN           1734      Denmark  \n",
       "652         Genève        NaN           1204  Switzerland  \n",
       "653    Albuquerque         NM          87110          USA  \n",
       "\n",
       "[654 rows x 15 columns]"
      ]
     },
     "execution_count": 86,
     "metadata": {},
     "output_type": "execute_result"
    }
   ],
   "source": [
    "pd.read_csv('assignment/processed-northwind-orders.csv')"
   ]
  },
  {
   "cell_type": "code",
   "execution_count": null,
   "id": "14c0ce74",
   "metadata": {
    "pycharm": {
     "name": "#%%\n"
    }
   },
   "outputs": [],
   "source": []
  }
 ],
 "metadata": {
  "kernelspec": {
   "display_name": "Python 3 (ipykernel)",
   "language": "python",
   "name": "python3"
  },
  "language_info": {
   "codemirror_mode": {
    "name": "ipython",
    "version": 3
   },
   "file_extension": ".py",
   "mimetype": "text/x-python",
   "name": "python",
   "nbconvert_exporter": "python",
   "pygments_lexer": "ipython3",
   "version": "3.9.13"
  }
 },
 "nbformat": 4,
 "nbformat_minor": 5
}